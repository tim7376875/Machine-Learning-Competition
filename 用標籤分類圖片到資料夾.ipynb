{
  "nbformat": 4,
  "nbformat_minor": 0,
  "metadata": {
    "colab": {
      "name": "用標籤分類圖片到資料夾",
      "provenance": []
    },
    "kernelspec": {
      "name": "python3",
      "display_name": "Python 3"
    },
    "language_info": {
      "name": "python"
    }
  },
  "cells": [
    {
      "cell_type": "code",
      "execution_count": null,
      "metadata": {
        "id": "al1K-vKU1ij8"
      },
      "outputs": [],
      "source": [
        "import os\n",
        "\n",
        "path = \"/content/drive/MyDrive/val_data\"\n",
        "os.mkdir(path)"
      ]
    },
    {
      "cell_type": "code",
      "source": [
        "import os\n",
        "import pandas as pd\n",
        "import shutil\n",
        "\n",
        "val_labels = {}\n",
        "with open('/content/drive/MyDrive/val_set.csv') as csvfile:\n",
        "    val = pd.read_csv(csvfile)\n",
        "\n",
        "for i in range(0, 219):\n",
        "    listnew = val[val[\"category\"]==i]\n",
        "    l = listnew[\"filename\"].tolist()\n",
        "    for img in l:\n",
        "      shutil.copy(\"/content/drive/MyDrive/train/\"+img, \"/content/drive/MyDrive/val_data\")\n",
        "\n",
        "print(listnew)\n",
        "print(l)"
      ],
      "metadata": {
        "id": "GFwospm61rkt"
      },
      "execution_count": null,
      "outputs": []
    }
  ]
}